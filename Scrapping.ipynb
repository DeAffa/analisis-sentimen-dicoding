{
  "nbformat": 4,
  "nbformat_minor": 0,
  "metadata": {
    "colab": {
      "provenance": [],
      "gpuType": "T4"
    },
    "kernelspec": {
      "name": "python3",
      "display_name": "Python 3"
    },
    "language_info": {
      "name": "python"
    },
    "accelerator": "GPU"
  },
  "cells": [
    {
      "cell_type": "code",
      "execution_count": 3,
      "metadata": {
        "colab": {
          "base_uri": "https://localhost:8080/"
        },
        "id": "rT2Mhmi3hMhj",
        "outputId": "6a5906dc-68e7-4054-db19-08ecfe549de3"
      },
      "outputs": [
        {
          "output_type": "stream",
          "name": "stdout",
          "text": [
            "Collecting google-play-scraper\n",
            "  Downloading google_play_scraper-1.2.7-py3-none-any.whl.metadata (50 kB)\n",
            "\u001b[?25l     \u001b[90m━━━━━━━━━━━━━━━━━━━━━━━━━━━━━━━━━━━━━━━━\u001b[0m \u001b[32m0.0/50.2 kB\u001b[0m \u001b[31m?\u001b[0m eta \u001b[36m-:--:--\u001b[0m\r\u001b[2K     \u001b[90m━━━━━━━━━━━━━━━━━━━━━━━━━━━━━━━━━━━━━━━━\u001b[0m \u001b[32m50.2/50.2 kB\u001b[0m \u001b[31m2.7 MB/s\u001b[0m eta \u001b[36m0:00:00\u001b[0m\n",
            "\u001b[?25hDownloading google_play_scraper-1.2.7-py3-none-any.whl (28 kB)\n",
            "Installing collected packages: google-play-scraper\n",
            "Successfully installed google-play-scraper-1.2.7\n"
          ]
        }
      ],
      "source": [
        "!pip install google-play-scraper"
      ]
    },
    {
      "cell_type": "code",
      "source": [
        "from google_play_scraper import app, reviews, Sort\n",
        "import pandas as pd\n",
        "\n",
        "# ID aplikasi HOK di Playstore (ganti dengan ID yang benar jika berbeda)\n",
        "app_id = 'com.levelinfinite.sgameGlobal'  # Ganti dengan ID aplikasi HOK yang sesuai\n",
        "\n",
        "# Fungsi untuk mendapatkan metadata aplikasi\n",
        "def get_app_info(app_id):\n",
        "    app_info = app(app_id)\n",
        "    return app_info\n",
        "\n",
        "# Fungsi untuk mengunduh ulasan aplikasi\n",
        "def get_reviews(app_id, count=10000):\n",
        "    # Ambil ulasan\n",
        "    result, _ = reviews(\n",
        "        app_id,\n",
        "        lang='id',  # Bahasa ulasan: 'id' untuk Bahasa Indonesia\n",
        "        country='id',  # Negara: Indonesia\n",
        "        sort=Sort.NEWEST,  # Ulasan terbaru\n",
        "        count=count  # Jumlah ulasan yang ingin diambil\n",
        "    )\n",
        "    return result\n",
        "\n",
        "# Eksekusi fungsi\n",
        "if __name__ == \"__main__\":\n",
        "    print(\"Mengambil metadata aplikasi...\")\n",
        "    app_info = get_app_info(app_id)\n",
        "    print(f\"Nama Aplikasi: {app_info['title']}\")\n",
        "    print(f\"Deskripsi Singkat: {app_info['summary']}\")\n",
        "\n",
        "    print(\"\\nMengambil ulasan aplikasi...\")\n",
        "    reviews_data = get_reviews(app_id, count=15000)  # Ambil 10000 ulasan\n",
        "\n",
        "    print(f\"Jumlah ulasan yang diambil: {len(reviews_data)}\")\n",
        "\n",
        "    # Convert ke DataFrame untuk analisis\n",
        "    ulasan_hok = pd.DataFrame(reviews_data)\n",
        "    ulasan_hok = ulasan_hok[['content', 'score', 'at', 'userName']]  # Pilih kolom yang relevan\n",
        "\n",
        "    # Simpan ke file CSV\n",
        "    output_file = \"hok_reviews.csv\"\n",
        "    ulasan_hok.to_csv(output_file, index=False, encoding='utf-8')\n",
        "    print(f\"Data ulasan berhasil disimpan ke {output_file}\")"
      ],
      "metadata": {
        "colab": {
          "base_uri": "https://localhost:8080/"
        },
        "id": "jzBFEz6dhWgu",
        "outputId": "f478100f-fa95-4844-849d-d2db5856b89e"
      },
      "execution_count": 4,
      "outputs": [
        {
          "output_type": "stream",
          "name": "stdout",
          "text": [
            "Mengambil metadata aplikasi...\n",
            "Nama Aplikasi: Honor of Kings\n",
            "Deskripsi Singkat: The Ultimate 5v5 Hero Battle Game. Team up for ultimate MOBA Games.\n",
            "\n",
            "Mengambil ulasan aplikasi...\n",
            "Jumlah ulasan yang diambil: 15000\n",
            "Data ulasan berhasil disimpan ke hok_reviews.csv\n"
          ]
        }
      ]
    }
  ]
}